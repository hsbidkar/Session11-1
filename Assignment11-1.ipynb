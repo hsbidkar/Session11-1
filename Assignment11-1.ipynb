{
 "cells": [
  {
   "cell_type": "markdown",
   "metadata": {},
   "source": [
    "# Assignment 11 - Part 1\n",
    "### 1. What are the three stages to build the hypotheses or model in machine learning?"
   ]
  },
  {
   "cell_type": "raw",
   "metadata": {},
   "source": [
    "3 Stages of Building Hypothesis / Model in Machine Learning:\n",
    "    1) Model Building - We try to check the data and look out the patterns and try to train the machine using sample data on basis of different models\n",
    "    2) Model Testing - We try to test the prediction accuracy for the model using test data\n",
    "    3) Model Application - we try to now apply the model for actual application use and try to evaluate on real world data."
   ]
  },
  {
   "cell_type": "markdown",
   "metadata": {},
   "source": [
    "### 2. What is the standard approach to supervised learning?"
   ]
  },
  {
   "cell_type": "raw",
   "metadata": {},
   "source": [
    "The standard approach to supervised learning is to split the set of examples into the training set and the test set.\n",
    "The learning algorithm receives training set consisting of a set of inputs along with the corresponding correct outputs, and the algorithm learns by comparing its actual output with correct outputs i.e. test set to find errors. It then modifies the model accordingly through methods like classification, regression, prediction and gradient boosting. "
   ]
  },
  {
   "cell_type": "markdown",
   "metadata": {},
   "source": [
    "### 3. What is Training set and Test set?"
   ]
  },
  {
   "cell_type": "raw",
   "metadata": {},
   "source": [
    "Training Set – \n",
    "In Machine Learning, a training set is a dataset used to train a model.\n",
    "In training the model, specific features are picked out from the training set.\n",
    "These features are then incorporated into the model. Thereby, if the training set is labeled correctly,\n",
    "the model should be able to learn something from these features.\n",
    "Test Set – \n",
    "The test set is a dataset used to measure how well the model performs at making predictions on that test set.\n",
    "If the prediction scores for the test set are unreasonable, we’ll have to make some adjustments to our model and try again."
   ]
  },
  {
   "cell_type": "markdown",
   "metadata": {},
   "source": [
    "### 4. What is the general principle of an ensemble method and what is bagging and boosting in ensemble method?"
   ]
  },
  {
   "cell_type": "code",
   "execution_count": null,
   "metadata": {},
   "outputs": [],
   "source": [
    "General principle of ensemble method – \n",
    "The general principle of an ensemble method is to combine the predictions of several models \n",
    "built with a given learning algorithm in order to improve robustness over a single model.\n",
    "\n",
    "Bagging – \n",
    "Bootstrap aggregating, also called bagging, is a machine learning ensemble meta-algorithm designed\n",
    "to improve the stability and accuracy of machine learning algorithms used in statistical classification and regression.\n",
    "It also reduces variance and helps to avoid overfitting. \n",
    "Although it is usually applied to decision tree methods, it can be used with any type of method. \n",
    "Bagging is a special case of the model averaging approach.\n",
    "\n",
    "Boosting – \n",
    "Boosting is a machine learning ensemble meta-algorithm for primarily reducing bias and variance in supervised learning.\n",
    "It is a family of machine learning algorithms that convert weak learners to strong ones."
   ]
  },
  {
   "cell_type": "markdown",
   "metadata": {},
   "source": [
    "### 5. How can you avoid overfitting?"
   ]
  },
  {
   "cell_type": "raw",
   "metadata": {},
   "source": [
    "Cross-Validation - Run model through mutliple variations of training sets in mini batches and validate their accuracy.\n",
    "Pruning - Prune the decision trees at a state where the model starts to generalize.\n",
    "Feature Selection - Remove irrelevant features so that model trains with minimum features and avoids computation issues\n",
    "Take more data - Train the model with large sample dataset\n",
    "Regularization - Use combination of above techniques to artificially force the model to be simpler."
   ]
  }
 ],
 "metadata": {
  "kernelspec": {
   "display_name": "Python 3",
   "language": "python",
   "name": "python3"
  },
  "language_info": {
   "codemirror_mode": {
    "name": "ipython",
    "version": 3
   },
   "file_extension": ".py",
   "mimetype": "text/x-python",
   "name": "python",
   "nbconvert_exporter": "python",
   "pygments_lexer": "ipython3",
   "version": "3.7.0"
  }
 },
 "nbformat": 4,
 "nbformat_minor": 2
}
